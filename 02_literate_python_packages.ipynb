{
 "cells": [
  {
   "cell_type": "markdown",
   "metadata": {},
   "source": [
    "# The Literate Python Package\n",
    "\n",
    "So you aren't doing data science, you're building software. Why Jupyter? Like any project with intrinsic value, this one developed in direct response to the thought, \"gee, I could really use this feature\".\n",
    "\n",
    "My first real python application on the job has been a GUI for a scientific software package written in R. I've using ipywidgets for the UI components, and the platform we have been using uses a notebook to launch the entire application in a single cell. I started out by writing python scripts, and then using the notebook to launch the application. Error messages in Jupyter notebooks are verbose enough, but it became clear to me that opening the file and finding the line that the error occuring was less than idea. When you start to think you need more than six monitors and 37 tabs to do the job, you probably aren't using the right development environment. \n",
    "\n",
    "![Cartoon about computer screens and development environments or tabs]()\n",
    "\n",
    "\n",
    "I gradually started doing more incremental development in the main application notebook and then pasting it into my python code when I was a little more sure it wasn't going to throw me a hard-to-find error. This was slightly more productive, but it was still an annoying way to develop a large project.\n",
    "\n",
    "Finally I asked myself an important question.\n",
    "\n",
    "## Can Jupyter Notebooks be imported as modules?\n",
    "\n",
    "As it turned out, they could! And there was a tutorial about how to do just that [in the Jupyter documentation]](https://jupyter-notebook.readthedocs.io/en/stable/examples/Notebook/Importing%20Notebooks.html). I copied the code over and was really excited to use it! But I quickly figured out this code would only import a single Jupyter file, and not an entire \"package\" of hierachical Jupyter notebooks. So I wrote one that did.\n",
    "\n",
    "Now that I could use Jupyter notebooks as packages, I had a much easier time of experimenting with code in one notebook at a time without digging through 59 tabs on my 13\" laptop. It was very simple to write a script that parsed the notebook code cells into a corresponding python file. It was a big personal success that improved my workflow in Jupyter, but there was still one more step to achieve literate programming.\n",
    "\n",
    "Up to this point, I could include markdown explainations of the code cells without including them in the python file. I was writing a lot of tutorials alongside my code in order to onboard students who were to contribute code. As it turns out, I was copying and pasting a lot of cell code to demonstrate concepts. I thought \"wouldn't it be great if I could just redact the didactic cells from the final product python file? So I posed the quesion...\n",
    "\n",
    "## Can I write custom IPython cell magics?\n",
    "\n",
    "It turned out the answer to that was yes too, so I wrote my own magic called \"omit\" which would run the code in the cell without including it in the final product. This was the last piece in creating a development enviroment conducive to literate programming, and development in Jupyter has never been easier.\n",
    "\n",
    "Not only do my notebooks serve as a living code document, but it also makes testing and playing with broken code much easier, because the intemediary steps are still available to run. I'm convinced this method of development is ideal for all python projects, even the ones without widgets.\n",
    "\n",
    "In the following notebooks, we will build the very package that implements these solutions as described."
   ]
  }
 ],
 "metadata": {
  "kernelspec": {
   "display_name": "Python 3",
   "language": "python",
   "name": "python3"
  },
  "language_info": {
   "codemirror_mode": {
    "name": "ipython",
    "version": 3
   },
   "file_extension": ".py",
   "mimetype": "text/x-python",
   "name": "python",
   "nbconvert_exporter": "python",
   "pygments_lexer": "ipython3",
   "version": "3.9.4"
  }
 },
 "nbformat": 4,
 "nbformat_minor": 4
}
