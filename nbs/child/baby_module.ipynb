{
 "cells": [
  {
   "cell_type": "code",
   "execution_count": null,
   "id": "29e9a7cd",
   "metadata": {},
   "outputs": [],
   "source": [
    "from ..module import hello_world\n",
    "\n",
    "def babble():\n",
    "    hello_world()\n",
    "    print('Goo goo, gah gah')"
   ]
  },
  {
   "cell_type": "code",
   "execution_count": null,
   "id": "cd8fcd9a",
   "metadata": {},
   "outputs": [],
   "source": []
  }
 ],
 "metadata": {
  "kernelspec": {
   "display_name": "Python 3",
   "language": "python",
   "name": "python3"
  },
  "language_info": {
   "codemirror_mode": {
    "name": "ipython",
    "version": 3
   },
   "file_extension": ".py",
   "mimetype": "text/x-python",
   "name": "python",
   "nbconvert_exporter": "python",
   "pygments_lexer": "ipython3",
   "version": "3.9.4"
  }
 },
 "nbformat": 4,
 "nbformat_minor": 5
}
