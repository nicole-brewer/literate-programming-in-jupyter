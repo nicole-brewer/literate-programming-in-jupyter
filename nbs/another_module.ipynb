{
 "cells": [
  {
   "cell_type": "code",
   "execution_count": null,
   "id": "727837d0",
   "metadata": {},
   "outputs": [],
   "source": [
    "from .module import hello_world\n",
    "\n",
    "def conversation():\n",
    "    hello_world()\n",
    "    print(\"And hi to you too!\")"
   ]
  },
  {
   "cell_type": "code",
   "execution_count": null,
   "id": "3b756402",
   "metadata": {},
   "outputs": [],
   "source": []
  }
 ],
 "metadata": {
  "kernelspec": {
   "display_name": "Python 3",
   "language": "python",
   "name": "python3"
  },
  "language_info": {
   "codemirror_mode": {
    "name": "ipython",
    "version": 3
   },
   "file_extension": ".py",
   "mimetype": "text/x-python",
   "name": "python",
   "nbconvert_exporter": "python",
   "pygments_lexer": "ipython3",
   "version": "3.9.4"
  }
 },
 "nbformat": 4,
 "nbformat_minor": 5
}
