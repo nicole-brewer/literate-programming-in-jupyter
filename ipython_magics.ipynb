{
 "cells": [
  {
   "cell_type": "markdown",
   "metadata": {},
   "source": [
    "# IPython Magics\n",
    "\n",
    "Jupyter Magics can be extremely useful in a development environment. They can do all kinds of things, like run shell commands, and run code from other languages. Let's try it out."
   ]
  },
  {
   "cell_type": "code",
   "execution_count": 1,
   "metadata": {},
   "outputs": [
    {
     "data": {
      "text/plain": [
       "'/home/mygeohub/brewenic0/SuperpowerUI/notebooks/tutorials'"
      ]
     },
     "execution_count": 1,
     "metadata": {},
     "output_type": "execute_result"
    }
   ],
   "source": [
    "%pwd"
   ]
  },
  {
   "cell_type": "markdown",
   "metadata": {},
   "source": [
    "This tells us the current working directory of the ZMQInteractiveShell running this notebook. We can change directories, and see what's in them just like we were using the comand line."
   ]
  },
  {
   "cell_type": "code",
   "execution_count": 5,
   "metadata": {},
   "outputs": [
    {
     "name": "stdout",
     "output_type": "stream",
     "text": [
      "/home/mygeohub/brewenic0/SuperpowerUI/notebooks\n",
      "/home/mygeohub/brewenic0/SuperpowerUI/notebooks/tutorials\n"
     ]
    }
   ],
   "source": [
    "%cd ..\n",
    "%pwd\n",
    "%cd tutorials"
   ]
  },
  {
   "cell_type": "markdown",
   "metadata": {},
   "source": [
    "These types of magics that begin with a single `%` are called line magics. You can have several of them in a single cell, and they will print to stdout that gets displayed at the end of the cell (more on that later). \n",
    "\n",
    "Okay, now lets see what we have in this directory."
   ]
  },
  {
   "cell_type": "code",
   "execution_count": 6,
   "metadata": {},
   "outputs": [
    {
     "name": "stdout",
     "output_type": "stream",
     "text": [
      "example_script.py  ipython_magics.ipynb     notebook_importer.ipynb\r\n",
      "\u001b[0m\u001b[01;34mimg\u001b[0m/               jupyter_notebooks.ipynb\r\n"
     ]
    }
   ],
   "source": [
    "%ls"
   ]
  },
  {
   "cell_type": "markdown",
   "metadata": {},
   "source": [
    "Wow okay cool. We can see the `ipython_magics.ipynb` we are viewing, and a file called `example_script.py`. Let's say we are using our notebook and we want run some code from an external python file. We can easily use the run command to do this."
   ]
  },
  {
   "cell_type": "code",
   "execution_count": 7,
   "metadata": {},
   "outputs": [
    {
     "name": "stdout",
     "output_type": "stream",
     "text": [
      "awesome\n"
     ]
    }
   ],
   "source": [
    "%run example_script.py"
   ]
  },
  {
   "cell_type": "markdown",
   "metadata": {},
   "source": [
    "Apparently there was some sort of `print('awesome')` statement in that code somewhere. Don't believe me? Let's pull in the code to find out!"
   ]
  },
  {
   "cell_type": "code",
   "execution_count": null,
   "metadata": {},
   "outputs": [],
   "source": [
    "# %load example_script.py\n",
    "\n",
    "print('awesome')"
   ]
  },
  {
   "cell_type": "code",
   "execution_count": null,
   "metadata": {},
   "outputs": [],
   "source": [
    "The comment in the first line is a optional nicety provided by the `%load` command. "
   ]
  },
  {
   "cell_type": "code",
   "execution_count": null,
   "metadata": {},
   "outputs": [],
   "source": [
    "@magics_class\n",
    "class NotebookWriter(Magics):\n",
    "    \n",
    "    shell = get_ipython()\n",
    "    \n",
    "    @cell_magic\n",
    "    @magic_arguments.magic_arguments()\n",
    "    @magic_arguments.argument('--verbose', '-v',\n",
    "          help='Whether to omit cell from being written into python file.'\n",
    "    )\n",
    "    def omit(self, line='', cell=None):\n",
    "        args = magic_arguments.parse_argstring(self.omit, line)\n",
    "        self.shell.run_cell(cell)\n",
    "        \n",
    "    @line_magic\n",
    "    @magic_arguments.magic_arguments()\n",
    "    @magic_arguments.argument('--verbose', '-v',\n",
    "        help='Clear output and save the current notebook and write it to python.')\n",
    "    @magic_arguments.argument('notebook')\n",
    "    @magic_arguments.argument('--pyPath', '-d', default=os.getcwd())\n",
    "    @magic_arguments.argument('--nbPath', '-s', default=os.getcwd())\n",
    "    @magic_arguments.argument('--overwrite', '-f', default=False)\n",
    "    def nb_to_py(self, line='', cell=None):\n",
    "        args = magic_arguments.parse_argstring(self.nb_to_py, line)\n",
    "        nbFile = os.path.join(args.nbPath, args.notebook)\n",
    "        assert os.path.isfile(nbFile), 'Notebook not found at %s' % nbFile\n",
    "        assert os.path.isdir(args.pyPath), '%s is not an existing directory' % agrs.pyPath\n",
    "        nb_to_py(nbFile=nbFile, pyPath=args.pyPath, overwrite=args.overwrite)"
   ]
  }
 ],
 "metadata": {
  "kernelspec": {
   "display_name": "Python 3",
   "language": "python",
   "name": "python3"
  },
  "language_info": {
   "codemirror_mode": {
    "name": "ipython",
    "version": 3
   },
   "file_extension": ".py",
   "mimetype": "text/x-python",
   "name": "python",
   "nbconvert_exporter": "python",
   "pygments_lexer": "ipython3",
   "version": "3.7.7"
  }
 },
 "nbformat": 4,
 "nbformat_minor": 4
}
